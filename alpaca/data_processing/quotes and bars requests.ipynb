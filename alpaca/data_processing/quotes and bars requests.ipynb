{
 "cells": [
  {
   "cell_type": "code",
   "execution_count": 240,
   "metadata": {},
   "outputs": [],
   "source": [
    "from alpaca.trading.client import TradingClient\n",
    "from alpaca.trading.requests import GetAssetsRequest\n",
    "from alpaca.trading.enums import AssetClass, AssetStatus\n",
    "\n",
    "from alpaca.data.historical import StockHistoricalDataClient\n",
    "from alpaca.data.requests import StockBarsRequest, StockQuotesRequest, StockLatestQuoteRequest\n",
    "from alpaca.data.timeframe import TimeFrame\n",
    "\n",
    "from datetime import datetime\n",
    "import pandas as pd\n",
    "\n",
    "\n",
    "def volatility_calculator(df): \n",
    "    prev_close = df['close'].shift(1)\n",
    "    return (abs(df['close'] - prev_close) / df['close']).dropna()\n",
    "\n",
    "def filter_by_regular_hours(data, datetime_column):\n",
    "    return data[(pd.to_datetime(data[datetime_column]).dt.time >= pd.to_datetime(\"15:30:00\").time()) & \\\n",
    "                (pd.to_datetime(data[datetime_column]).dt.time <=  pd.to_datetime(\"20:00:00\").time()) & \\\n",
    "                (pd.to_datetime(data[datetime_column]).dt.dayofweek < 5)].reset_index(drop=True)\n",
    "\n",
    "\n",
    "class StockDataRetriever:\n",
    "    API_KEY = \"PKGG13YXB1TNOXBQC6UU\"\n",
    "    API_SECRET = \"DOrUyg0g639FRkLhNrKzQKVilmGvzg3PZCpyFpeK\"\n",
    "\n",
    "    def __init__(self, timeframe=TimeFrame.Minute):\n",
    "        self.timeframe = timeframe\n",
    "        self.client = StockHistoricalDataClient(self.API_KEY,  self.API_SECRET)\n",
    "\n",
    "    def get_all_symbols(self): \n",
    "        trading_client = TradingClient(self.API_KEY, self.API_SECRET)\n",
    "        search_params = GetAssetsRequest(asset_class=AssetClass.US_EQUITY)\n",
    "\n",
    "        assets = trading_client.get_all_assets(search_params)\n",
    "        assets = [asset for asset in assets if \\\n",
    "                asset.status == AssetStatus.ACTIVE and \n",
    "                asset.easy_to_borrow and \n",
    "                asset.fractionable and \n",
    "                not asset.min_order_size and \n",
    "                asset.shortable and\n",
    "                asset.tradable]\n",
    "        return [asset.symbol for asset in assets]\n",
    "\n",
    "    def bars(self, \n",
    "             symbol_or_symbols, \n",
    "             start=datetime(2025, 5, 1),\n",
    "             end=datetime(2025, 5, 2),):\n",
    "        request_params = StockBarsRequest(\n",
    "            symbol_or_symbols=symbol_or_symbols,\n",
    "            timeframe=self.timeframe,\n",
    "            start=start,\n",
    "            end=end,\n",
    "            feed='sip'\n",
    "        )\n",
    "        bars = self.client.get_stock_bars(request_params).data\n",
    "        return {symbol: \n",
    "                pd.DataFrame([data_item.__dict__ \n",
    "                 for data_item in stock_data])\\\n",
    "                  .drop(columns=['symbol', 'trade_count'])\\\n",
    "                   .rename(columns={'timestamp': 'date'})\n",
    "                    for symbol, stock_data in bars.items()}\n",
    "    \n",
    "    def todays_bars(self, symbol_or_symbols, limit=100): \n",
    "        request_params = StockBarsRequest(\n",
    "            symbol_or_symbols=symbol_or_symbols,\n",
    "            timeframe=self.timeframe,\n",
    "            feed='sip'\n",
    "        )\n",
    "        bars = self.client.get_stock_bars(request_params).data\n",
    "        return {symbol: \n",
    "                pd.DataFrame([data_item.__dict__ \n",
    "                 for data_item in stock_data]).head(limit)\n",
    "                  .drop(columns=['symbol', 'trade_count'])\\\n",
    "                   .rename(columns={'timestamp': 'date'})\n",
    "                    for symbol, stock_data in bars.items()}\n",
    "    \n",
    "    def todays_volatility(self, symbol_or_symbols, limit=100): \n",
    "        todays_bars = self.todays_bars(symbol_or_symbols, limit)\n",
    "        return {symbol: volatility_calculator(symbol_data).median()\n",
    "                for symbol, symbol_data in todays_bars.items()}\n",
    "    \n",
    "    def quote(self, \n",
    "             symbol_or_symbols, \n",
    "             start=datetime(2025, 5, 1),\n",
    "             end=datetime(2025, 5, 2),):\n",
    "        # todo \n",
    "        # request_params = StockQuotesRequest(\n",
    "        #     symbol_or_symbols=[symbol],\n",
    "        #     # timeframe=self.timeframe,\n",
    "        #     start=self.start,\n",
    "        #     end=self.end,\n",
    "        #     feed='sip',\n",
    "        #     limit=1\n",
    "        # )\n",
    "        # quotes = client.get_stock_quotes(request_params)\n",
    "        pass \n",
    "        \n",
    "    def latest_quote(self, symbol_or_symbols): \n",
    "        request_params = StockLatestQuoteRequest(\n",
    "            symbol_or_symbols=symbol_or_symbols,\n",
    "            feed='sip',\n",
    "        )\n",
    "        quotes = self.client.get_stock_latest_quote(request_params)\n",
    "\n",
    "        return quotes\n",
    "    \n",
    "    def latest_spread(self, symbol_or_symbols): \n",
    "        quotes = self.latest_quote(symbol_or_symbols)\n",
    "        return {symbol: (quote.ask_price - quote.bid_price) / quote.bid_price \n",
    "                for symbol, quote in quotes.items()}"
   ]
  },
  {
   "cell_type": "code",
   "execution_count": 242,
   "metadata": {},
   "outputs": [],
   "source": [
    "retriever = StockDataRetriever()\n",
    "all_symbols = retriever.get_all_symbols()"
   ]
  },
  {
   "cell_type": "code",
   "execution_count": 245,
   "metadata": {},
   "outputs": [],
   "source": [
    "todays_bars = retriever.todays_bars(all_symbols)\n",
    "todays_volatilities = {symbol: volatility_calculator(symbol_data).median()\n",
    "    for symbol, symbol_data in todays_bars.items()}"
   ]
  },
  {
   "cell_type": "code",
   "execution_count": 246,
   "metadata": {},
   "outputs": [],
   "source": [
    "quotes = retriever.latest_quote(all_symbols)\n",
    "latest_spreads =  {symbol: (quote.ask_price - quote.bid_price) / quote.bid_price \n",
    "                    for symbol, quote in quotes.items()}"
   ]
  },
  {
   "cell_type": "code",
   "execution_count": 315,
   "metadata": {},
   "outputs": [],
   "source": [
    "minimal_spreads = {symbol: 0.01 / quote.bid_price \n",
    "                    for symbol, quote in quotes.items()}"
   ]
  },
  {
   "cell_type": "code",
   "execution_count": 267,
   "metadata": {},
   "outputs": [
    {
     "data": {
      "text/plain": [
       "1640"
      ]
     },
     "execution_count": 267,
     "metadata": {},
     "output_type": "execute_result"
    }
   ],
   "source": [
    "LIQUIDITY_TARGET = 10000\n",
    "liquid_symbols = [symbol for symbol in all_symbols \n",
    "                  if symbol in latest_spreads \n",
    "                  and symbol in todays_bars\n",
    "                  and quotes[symbol].bid_price * min(quotes[symbol].bid_size, quotes[symbol].ask_size) * 100 >= LIQUIDITY_TARGET]\n",
    "len(liquid_symbols)"
   ]
  },
  {
   "cell_type": "code",
   "execution_count": 269,
   "metadata": {},
   "outputs": [],
   "source": [
    "volatility_to_spread = {symbol: todays_volatilities[symbol] / latest_spreads[symbol] \n",
    "                        for symbol in liquid_symbols}"
   ]
  },
  {
   "cell_type": "code",
   "execution_count": 316,
   "metadata": {},
   "outputs": [],
   "source": [
    "volatility_to_minimal_spread = {symbol: todays_volatilities[symbol] / minimal_spreads[symbol] \n",
    "                        for symbol in liquid_symbols}"
   ]
  },
  {
   "cell_type": "code",
   "execution_count": 270,
   "metadata": {},
   "outputs": [
    {
     "data": {
      "text/plain": [
       "{'MU': np.float64(6.040677966097403),\n",
       " 'DAL': np.float64(5.980422014358607),\n",
       " 'RSP': np.float64(5.521333372224203),\n",
       " 'APH': np.float64(5.273492852709252),\n",
       " 'AMD': np.float64(5.114097363080257),\n",
       " 'GOOG': np.float64(5.070850817965725),\n",
       " 'GOOGL': np.float64(5.063236738709096),\n",
       " 'QQQ': np.float64(5.030631188107373),\n",
       " 'IGV': np.float64(5.026627813501966),\n",
       " 'VTI': np.float64(4.767893513083875)}"
      ]
     },
     "execution_count": 270,
     "metadata": {},
     "output_type": "execute_result"
    }
   ],
   "source": [
    "dict(sorted(volatility_to_spread.items(), key=lambda item: - item[1])[:10])"
   ]
  },
  {
   "cell_type": "code",
   "execution_count": 318,
   "metadata": {},
   "outputs": [
    {
     "data": {
      "text/plain": [
       "{'NVR': np.float64(941.2881443054981),\n",
       " 'GHC': np.float64(773.7826197004936),\n",
       " 'BKNG': np.float64(612.2961148327196),\n",
       " 'WTM': np.float64(338.03613658303465),\n",
       " 'FICO': np.float64(323.32039272894286),\n",
       " 'COKE': np.float64(320.6642543704502),\n",
       " 'MELI': np.float64(262.30125570967704),\n",
       " 'TPL': np.float64(224.71462097564307),\n",
       " 'ALX': np.float64(223.56356056668764),\n",
       " 'WINA': np.float64(219.24657921074956)}"
      ]
     },
     "execution_count": 318,
     "metadata": {},
     "output_type": "execute_result"
    }
   ],
   "source": [
    "dict(sorted(volatility_to_minimal_spread.items(), key=lambda item: - item[1])[:10])"
   ]
  },
  {
   "cell_type": "code",
   "execution_count": 355,
   "metadata": {},
   "outputs": [
    {
     "name": "stdout",
     "output_type": "stream",
     "text": [
      "TopBookVolume: 94306.0\n"
     ]
    },
    {
     "data": {
      "text/plain": [
       "(1.0603779186902213e-05, np.float64(0.008205020037966764))"
      ]
     },
     "execution_count": 355,
     "metadata": {},
     "output_type": "execute_result"
    }
   ],
   "source": [
    "symbol = 'GHC'\n",
    "\n",
    "spread = minimal_spreads[symbol]\n",
    "vol = todays_volatilities[symbol]\n",
    "print(f'TopBookVolume: {quotes[symbol].bid_price * min(quotes[symbol].bid_size, quotes[symbol].ask_size) * 100}')\n",
    "spread, vol"
   ]
  },
  {
   "cell_type": "code",
   "execution_count": 364,
   "metadata": {},
   "outputs": [
    {
     "data": {
      "text/plain": [
       "np.float64(53.1593487041284)"
      ]
     },
     "execution_count": 364,
     "metadata": {},
     "output_type": "execute_result"
    }
   ],
   "source": [
    "from random import random \n",
    "\n",
    "\n",
    "acc = 0.53\n",
    "start_capital = 1\n",
    "\n",
    "for _ in range(20 * 1): \n",
    "    for _ in range(350): \n",
    "        if random() < acc: \n",
    "            start_capital *= (1 + vol - spread)\n",
    "        else: \n",
    "            start_capital *= (1 - vol - spread)\n",
    "\n",
    "start_capital"
   ]
  },
  {
   "cell_type": "code",
   "execution_count": 65,
   "metadata": {},
   "outputs": [],
   "source": [
    "class Vol: \n",
    "    def __init__(self,\n",
    "                 period,\n",
    "                 close_feature='close'):\n",
    "        self.period = period\n",
    "        self.close_feature = close_feature\n",
    "\n",
    "    def __call__(self, df): \n",
    "        prev_close = df[self.close_feature].shift(1)\n",
    "        vol = abs(df[self.close_feature] - prev_close)\n",
    "        return vol.ewm(span=self.period, adjust=False).mean().fillna(0)"
   ]
  },
  {
   "cell_type": "code",
   "execution_count": 233,
   "metadata": {},
   "outputs": [
    {
     "data": {
      "text/html": [
       "<div>\n",
       "<style scoped>\n",
       "    .dataframe tbody tr th:only-of-type {\n",
       "        vertical-align: middle;\n",
       "    }\n",
       "\n",
       "    .dataframe tbody tr th {\n",
       "        vertical-align: top;\n",
       "    }\n",
       "\n",
       "    .dataframe thead th {\n",
       "        text-align: right;\n",
       "    }\n",
       "</style>\n",
       "<table border=\"1\" class=\"dataframe\">\n",
       "  <thead>\n",
       "    <tr style=\"text-align: right;\">\n",
       "      <th></th>\n",
       "      <th>open</th>\n",
       "      <th>high</th>\n",
       "      <th>low</th>\n",
       "      <th>close</th>\n",
       "      <th>volume</th>\n",
       "      <th>date</th>\n",
       "    </tr>\n",
       "  </thead>\n",
       "  <tbody>\n",
       "    <tr>\n",
       "      <th>0</th>\n",
       "      <td>209.5800</td>\n",
       "      <td>209.8600</td>\n",
       "      <td>209.3600</td>\n",
       "      <td>209.36</td>\n",
       "      <td>3814.0</td>\n",
       "      <td>2025-05-01 08:00:00+00:00</td>\n",
       "    </tr>\n",
       "    <tr>\n",
       "      <th>1</th>\n",
       "      <td>209.1700</td>\n",
       "      <td>209.4500</td>\n",
       "      <td>209.1700</td>\n",
       "      <td>209.40</td>\n",
       "      <td>2499.0</td>\n",
       "      <td>2025-05-01 08:01:00+00:00</td>\n",
       "    </tr>\n",
       "    <tr>\n",
       "      <th>2</th>\n",
       "      <td>209.4500</td>\n",
       "      <td>209.4600</td>\n",
       "      <td>209.4000</td>\n",
       "      <td>209.40</td>\n",
       "      <td>2165.0</td>\n",
       "      <td>2025-05-01 08:02:00+00:00</td>\n",
       "    </tr>\n",
       "    <tr>\n",
       "      <th>3</th>\n",
       "      <td>209.4000</td>\n",
       "      <td>209.4000</td>\n",
       "      <td>209.2500</td>\n",
       "      <td>209.25</td>\n",
       "      <td>2794.0</td>\n",
       "      <td>2025-05-01 08:03:00+00:00</td>\n",
       "    </tr>\n",
       "    <tr>\n",
       "      <th>4</th>\n",
       "      <td>209.1400</td>\n",
       "      <td>209.1400</td>\n",
       "      <td>209.1400</td>\n",
       "      <td>209.14</td>\n",
       "      <td>1311.0</td>\n",
       "      <td>2025-05-01 08:04:00+00:00</td>\n",
       "    </tr>\n",
       "    <tr>\n",
       "      <th>...</th>\n",
       "      <td>...</td>\n",
       "      <td>...</td>\n",
       "      <td>...</td>\n",
       "      <td>...</td>\n",
       "      <td>...</td>\n",
       "      <td>...</td>\n",
       "    </tr>\n",
       "    <tr>\n",
       "      <th>252</th>\n",
       "      <td>209.3500</td>\n",
       "      <td>209.3500</td>\n",
       "      <td>209.1700</td>\n",
       "      <td>209.24</td>\n",
       "      <td>13424.0</td>\n",
       "      <td>2025-05-01 12:58:00+00:00</td>\n",
       "    </tr>\n",
       "    <tr>\n",
       "      <th>253</th>\n",
       "      <td>209.2000</td>\n",
       "      <td>209.2000</td>\n",
       "      <td>209.1100</td>\n",
       "      <td>209.13</td>\n",
       "      <td>5888.0</td>\n",
       "      <td>2025-05-01 12:59:00+00:00</td>\n",
       "    </tr>\n",
       "    <tr>\n",
       "      <th>254</th>\n",
       "      <td>209.1100</td>\n",
       "      <td>209.1800</td>\n",
       "      <td>209.0500</td>\n",
       "      <td>209.11</td>\n",
       "      <td>9219.0</td>\n",
       "      <td>2025-05-01 13:00:00+00:00</td>\n",
       "    </tr>\n",
       "    <tr>\n",
       "      <th>255</th>\n",
       "      <td>209.1106</td>\n",
       "      <td>209.1300</td>\n",
       "      <td>209.1106</td>\n",
       "      <td>209.13</td>\n",
       "      <td>1205.0</td>\n",
       "      <td>2025-05-01 13:01:00+00:00</td>\n",
       "    </tr>\n",
       "    <tr>\n",
       "      <th>256</th>\n",
       "      <td>209.1400</td>\n",
       "      <td>209.1899</td>\n",
       "      <td>209.1300</td>\n",
       "      <td>209.18</td>\n",
       "      <td>11720.0</td>\n",
       "      <td>2025-05-01 13:02:00+00:00</td>\n",
       "    </tr>\n",
       "  </tbody>\n",
       "</table>\n",
       "<p>257 rows × 6 columns</p>\n",
       "</div>"
      ],
      "text/plain": [
       "         open      high       low   close   volume                      date\n",
       "0    209.5800  209.8600  209.3600  209.36   3814.0 2025-05-01 08:00:00+00:00\n",
       "1    209.1700  209.4500  209.1700  209.40   2499.0 2025-05-01 08:01:00+00:00\n",
       "2    209.4500  209.4600  209.4000  209.40   2165.0 2025-05-01 08:02:00+00:00\n",
       "3    209.4000  209.4000  209.2500  209.25   2794.0 2025-05-01 08:03:00+00:00\n",
       "4    209.1400  209.1400  209.1400  209.14   1311.0 2025-05-01 08:04:00+00:00\n",
       "..        ...       ...       ...     ...      ...                       ...\n",
       "252  209.3500  209.3500  209.1700  209.24  13424.0 2025-05-01 12:58:00+00:00\n",
       "253  209.2000  209.2000  209.1100  209.13   5888.0 2025-05-01 12:59:00+00:00\n",
       "254  209.1100  209.1800  209.0500  209.11   9219.0 2025-05-01 13:00:00+00:00\n",
       "255  209.1106  209.1300  209.1106  209.13   1205.0 2025-05-01 13:01:00+00:00\n",
       "256  209.1400  209.1899  209.1300  209.18  11720.0 2025-05-01 13:02:00+00:00\n",
       "\n",
       "[257 rows x 6 columns]"
      ]
     },
     "execution_count": 233,
     "metadata": {},
     "output_type": "execute_result"
    }
   ],
   "source": [
    "stock_df"
   ]
  },
  {
   "cell_type": "code",
   "execution_count": 235,
   "metadata": {},
   "outputs": [
    {
     "data": {
      "text/plain": [
       "np.float64(0.05496075017553037)"
      ]
     },
     "execution_count": 235,
     "metadata": {},
     "output_type": "execute_result"
    }
   ],
   "source": [
    "vol = Vol(10)\n",
    "vol(stock_df).iloc[-1]"
   ]
  },
  {
   "cell_type": "code",
   "execution_count": 66,
   "metadata": {},
   "outputs": [
    {
     "name": "stderr",
     "output_type": "stream",
     "text": [
      "C:\\Users\\ikurnosau\\AppData\\Local\\Temp\\ipykernel_30944\\541701687.py:30: UserWarning: Boolean Series key will be reindexed to match DataFrame index.\n",
      "  atr_values = vol(result[result['date'] > '2025-01-06 14:29:00+00:00'][result['date'] <= '2025-01-06 21:00:00+00:00'])\n"
     ]
    }
   ],
   "source": [
    "import numpy as np\n",
    "\n",
    "class ATR:\n",
    "    def __init__(self,\n",
    "                 period,\n",
    "                 high_feature='high',\n",
    "                 low_feature='low',\n",
    "                 close_feature='close'):\n",
    "        self.period = period\n",
    "        self.high_feature = high_feature\n",
    "        self.low_feature = low_feature\n",
    "        self.close_feature = close_feature\n",
    "\n",
    "    def __call__(self, df):\n",
    "        # Calculate the True Range (TR)\n",
    "        prev_close = df[self.close_feature].shift(1)\n",
    "\n",
    "        temp_df = pd.DataFrame()\n",
    "        temp_df['high-low'] = df[self.high_feature] - df[self.low_feature]\n",
    "        temp_df['high-Previous close'] = np.abs(df[self.high_feature] - prev_close)\n",
    "        temp_df['low-Previous close'] = np.abs(df[self.low_feature] - prev_close)\n",
    "\n",
    "        tr = temp_df[['high-low', 'high-Previous close', 'low-Previous close']].max(axis=1)\n",
    "\n",
    "        # Calculate the ATR using an Exponential Moving Average (EMA)\n",
    "        return tr.ewm(span=self.period, adjust=False).mean()\n",
    "    \n",
    "\n",
    "vol = Vol(10)\n",
    "atr_values = vol(result[result['date'] > '2025-01-06 14:29:00+00:00'][result['date'] <= '2025-01-06 21:00:00+00:00'])"
   ]
  },
  {
   "cell_type": "code",
   "execution_count": 67,
   "metadata": {},
   "outputs": [
    {
     "data": {
      "text/plain": [
       "1394    0.000000\n",
       "1395    0.605000\n",
       "1396    0.570455\n",
       "1397    0.721281\n",
       "1398    0.668321\n",
       "          ...   \n",
       "1780    0.179625\n",
       "1781    0.181512\n",
       "1782    0.186691\n",
       "1783    0.243657\n",
       "1784    0.210264\n",
       "Name: close, Length: 391, dtype: float64"
      ]
     },
     "execution_count": 67,
     "metadata": {},
     "output_type": "execute_result"
    }
   ],
   "source": [
    "atr_values"
   ]
  },
  {
   "cell_type": "code",
   "execution_count": 68,
   "metadata": {},
   "outputs": [
    {
     "data": {
      "text/plain": [
       "[<matplotlib.lines.Line2D at 0x27142874c20>]"
      ]
     },
     "execution_count": 68,
     "metadata": {},
     "output_type": "execute_result"
    },
    {
     "data": {
      "image/png": "[encoded data removed]",
      "text/plain": [
       "<Figure size 640x480 with 1 Axes>"
      ]
     },
     "metadata": {},
     "output_type": "display_data"
    }
   ],
   "source": [
    "import matplotlib.pyplot as plt\n",
    "\n",
    "plt.plot(atr_values)"
   ]
  },
  {
   "cell_type": "code",
   "execution_count": 69,
   "metadata": {},
   "outputs": [
    {
     "data": {
      "text/plain": [
       "np.float64(0.17714759605404895)"
      ]
     },
     "execution_count": 69,
     "metadata": {},
     "output_type": "execute_result"
    }
   ],
   "source": [
    "atr_values.mean()"
   ]
  },
  {
   "cell_type": "code",
   "execution_count": 71,
   "metadata": {},
   "outputs": [],
   "source": [
    "\n",
    "from alpaca.data.historical import StockHistoricalDataClient\n",
    "from alpaca.data.requests import StockQuotesRequest\n",
    "from alpaca.data.timeframe import TimeFrame\n",
    "from datetime import datetime\n",
    "\n",
    "class StockQuoteRetriever:\n",
    "    API_KEY = \"PKGG13YXB1TNOXBQC6UU\"\n",
    "    API_SECRET = \"DOrUyg0g639FRkLhNrKzQKVilmGvzg3PZCpyFpeK\"\n",
    "\n",
    "    def __init__(self,\n",
    "            start='2025-01-02 16:28:00+00:00',\n",
    "            end='2025-01-02 16:29:00+00:00',\n",
    "            timeframe=TimeFrame.Minute):\n",
    "        self.start = start\n",
    "        self.end = end\n",
    "        self.timeframe = timeframe\n",
    "\n",
    "    def __call__(self, symbol):\n",
    "        client = StockHistoricalDataClient(self.API_KEY,  self.API_SECRET)\n",
    "\n",
    "        request_params = StockQuotesRequest(\n",
    "            symbol_or_symbols=[symbol],\n",
    "            # timeframe=self.timeframe,\n",
    "            start=self.start,\n",
    "            end=self.end,\n",
    "            feed='sip',\n",
    "            limit=1\n",
    "        )\n",
    "        quotes = client.get_stock_quotes(request_params).df\n",
    "        quotes[TSLDatasetConstants.DATETIME_COLUMN_NAME] = [cur_index[1] for cur_index in quotes.index]\n",
    "\n",
    "        return quotes.reset_index(drop=True)"
   ]
  },
  {
   "cell_type": "code",
   "execution_count": 139,
   "metadata": {},
   "outputs": [
    {
     "data": {
      "text/html": [
       "<div>\n",
       "<style scoped>\n",
       "    .dataframe tbody tr th:only-of-type {\n",
       "        vertical-align: middle;\n",
       "    }\n",
       "\n",
       "    .dataframe tbody tr th {\n",
       "        vertical-align: top;\n",
       "    }\n",
       "\n",
       "    .dataframe thead th {\n",
       "        text-align: right;\n",
       "    }\n",
       "</style>\n",
       "<table border=\"1\" class=\"dataframe\">\n",
       "  <thead>\n",
       "    <tr style=\"text-align: right;\">\n",
       "      <th></th>\n",
       "      <th>bid_price</th>\n",
       "      <th>bid_size</th>\n",
       "      <th>bid_exchange</th>\n",
       "      <th>ask_price</th>\n",
       "      <th>ask_size</th>\n",
       "      <th>ask_exchange</th>\n",
       "      <th>conditions</th>\n",
       "      <th>tape</th>\n",
       "      <th>date</th>\n",
       "    </tr>\n",
       "  </thead>\n",
       "  <tbody>\n",
       "    <tr>\n",
       "      <th>0</th>\n",
       "      <td>164.72</td>\n",
       "      <td>4.0</td>\n",
       "      <td>N</td>\n",
       "      <td>164.9</td>\n",
       "      <td>1.0</td>\n",
       "      <td>T</td>\n",
       "      <td>[R]</td>\n",
       "      <td>A</td>\n",
       "      <td>2025-01-02 16:28:01.641019+00:00</td>\n",
       "    </tr>\n",
       "  </tbody>\n",
       "</table>\n",
       "</div>"
      ],
      "text/plain": [
       "   bid_price  bid_size bid_exchange  ask_price  ask_size ask_exchange  \\\n",
       "0     164.72       4.0            N      164.9       1.0            T   \n",
       "\n",
       "  conditions tape                             date  \n",
       "0        [R]    A 2025-01-02 16:28:01.641019+00:00  "
      ]
     },
     "execution_count": 139,
     "metadata": {},
     "output_type": "execute_result"
    }
   ],
   "source": [
    "quotes_retriever = StockQuoteRetriever()\n",
    "quotes_retriever('APO')"
   ]
  },
  {
   "cell_type": "code",
   "execution_count": 140,
   "metadata": {},
   "outputs": [
    {
     "data": {
      "text/plain": [
       "9503.0"
      ]
     },
     "execution_count": 140,
     "metadata": {},
     "output_type": "execute_result"
    }
   ],
   "source": [
    "95.03 * 100 * 1"
   ]
  },
  {
   "cell_type": "code",
   "execution_count": 141,
   "metadata": {},
   "outputs": [],
   "source": [
    "stocks = [\n",
    "    'AMD', 'AES', 'ABNB', 'GOOGL', 'GOOG', 'MO', 'AMZN', 'AMCR', 'APH', 'ADI', 'APA',\n",
    "    'APO', 'AAPL', 'APTV', 'ADM', 'ANET', 'T', 'BKR', 'BALL', 'BAC', 'BX', 'BA',\n",
    "    'BSX', 'BMY', 'AVGO', 'CPB', 'CCL', 'CARR', 'CNC', 'CNP', 'SCHW', 'CVX', 'CMG',\n",
    "    'CSCO', 'CFG', 'KO', 'CL', 'CMCSA', 'COP', 'CEG', 'CSX', 'CVS', 'DHR', 'DECK',\n",
    "    'DELL', 'DAL', 'DVN', 'D', 'DOW', 'EBAY', 'EIX', 'EA', 'ENPH', 'EQT', 'EQR',\n",
    "    'EL', 'XOM', 'FITB', 'F', 'FTNT', 'FOXA', 'BEN', 'GE', 'GEN', 'GIS', 'GM',\n",
    "    'GILD', 'HAL', 'DOC', 'HPE', 'HST', 'HPQ', 'HBAN', 'IBM', 'INTC', 'JNJ', 'JPM',\n",
    "    'KDP', 'KEY', 'KMI', 'KKR', 'KHC', 'KR', 'LRCX', 'LEN', 'MPC', 'MTCH', 'MDT',\n",
    "    'META', 'MET', 'MCHP', 'MU', 'MSFT', 'MRNA', 'MDLZ', 'MNST', 'NDAQ', 'NFLX',\n",
    "    'NEM', 'NEE', 'NKE', 'NCLH', 'NVDA', 'OXY', 'ON', 'OKE', 'PLTR', 'PANW', 'PYPL',\n",
    "    'PEP', 'PFE', 'PCG', 'PM', 'PPL', 'PG', 'QCOM', 'O', 'CRM', 'SLB', 'LUV',\n",
    "    'SBUX', 'SMCI', 'SYF', 'SYY', 'TGT', 'TSLA', 'TXN', 'TJX', 'TSCO', 'USB',\n",
    "    'UBER', 'UAL', 'VZ', 'VTRS', 'V', 'VST', 'WBA', 'WMT', 'DIS', 'WBD', 'WDC', 'WMB'\n",
    "]\n",
    "\n",
    "spreads = []\n",
    "quotes = []\n",
    "for stock in stocks: \n",
    "    quote = quotes_retriever(stock)\n",
    "    quotes.append(quote)\n",
    "    \n",
    "    spread = quote['ask_price'] - quote['bid_price']\n",
    "    spreads.append(spread)\n"
   ]
  },
  {
   "cell_type": "code",
   "execution_count": 142,
   "metadata": {},
   "outputs": [],
   "source": [
    "spreads = [spread.iloc[0] for spread in spreads]"
   ]
  },
  {
   "cell_type": "code",
   "execution_count": 143,
   "metadata": {},
   "outputs": [
    {
     "data": {
      "text/plain": [
       "[np.float64(0.030000000000001137),\n",
       " np.float64(0.009999999999999787),\n",
       " np.float64(0.09999999999999432),\n",
       " np.float64(0.03999999999999204),\n",
       " np.float64(0.03999999999999204),\n",
       " np.float64(0.010000000000005116),\n",
       " np.float64(0.040000000000020464),\n",
       " np.float64(0.009999999999999787),\n",
       " np.float64(0.09000000000000341),\n",
       " np.float64(0.29999999999998295),\n",
       " np.float64(0.00999999999999801),\n",
       " np.float64(0.18000000000000682),\n",
       " np.float64(0.03999999999999204),\n",
       " np.float64(0.03999999999999915),\n",
       " np.float64(0.030000000000001137),\n",
       " np.float64(0.20000000000000284),\n",
       " np.float64(0.00999999999999801),\n",
       " np.float64(0.00999999999999801),\n",
       " np.float64(0.020000000000003126),\n",
       " np.float64(0.00999999999999801),\n",
       " np.float64(0.2599999999999909),\n",
       " np.float64(0.08999999999997499),\n",
       " np.float64(0.06999999999999318),\n",
       " np.float64(0.00999999999999801),\n",
       " np.float64(0.08999999999997499),\n",
       " np.float64(0.02999999999999403),\n",
       " np.float64(0.00999999999999801),\n",
       " np.float64(0.020000000000010232),\n",
       " np.float64(0.03999999999999915),\n",
       " np.float64(0.010000000000001563),\n",
       " np.float64(0.030000000000001137),\n",
       " np.float64(0.03999999999999204),\n",
       " np.float64(0.01999999999999602),\n",
       " np.float64(0.00999999999999801),\n",
       " np.float64(0.030000000000001137),\n",
       " np.float64(0.010000000000005116),\n",
       " np.float64(0.04000000000000625),\n",
       " np.float64(0.00999999999999801),\n",
       " np.float64(0.030000000000001137),\n",
       " np.float64(0.549999999999983),\n",
       " np.float64(0.010000000000005116),\n",
       " np.float64(0.010000000000005116),\n",
       " np.float64(0.3299999999999841),\n",
       " np.float64(0.3100000000000023),\n",
       " np.float64(0.09999999999999432),\n",
       " np.float64(0.03999999999999915),\n",
       " np.float64(0.010000000000005116),\n",
       " np.float64(0.01999999999999602),\n",
       " np.float64(0.00999999999999801),\n",
       " np.float64(0.060000000000002274),\n",
       " np.float64(0.04999999999999716),\n",
       " np.float64(0.12999999999999545),\n",
       " np.float64(0.14000000000000057),\n",
       " np.float64(0.020000000000003126),\n",
       " np.float64(0.14000000000000057),\n",
       " np.float64(0.0799999999999983),\n",
       " np.float64(0.01999999999999602),\n",
       " np.float64(0.01999999999999602),\n",
       " np.float64(0.009999999999999787),\n",
       " np.float64(0.06999999999999318),\n",
       " np.float64(0.00999999999999801),\n",
       " np.float64(0.00999999999999801),\n",
       " np.float64(0.17000000000001592),\n",
       " np.float64(0.010000000000001563),\n",
       " np.float64(0.020000000000003126),\n",
       " np.float64(0.00999999999999801),\n",
       " np.float64(0.04000000000000625),\n",
       " np.float64(0.00999999999999801),\n",
       " np.float64(0.010000000000001563),\n",
       " np.float64(0.010000000000001563),\n",
       " np.float64(0.010000000000001563),\n",
       " np.float64(0.0),\n",
       " np.float64(0.010000000000001563),\n",
       " np.float64(0.2600000000000193),\n",
       " np.float64(0.00999999999999801),\n",
       " np.float64(0.04999999999998295),\n",
       " np.float64(0.18000000000000682),\n",
       " np.float64(0.00999999999999801),\n",
       " np.float64(0.010000000000001563),\n",
       " np.float64(0.010000000000001563),\n",
       " np.float64(0.3100000000000023),\n",
       " np.float64(0.010000000000001563),\n",
       " np.float64(0.030000000000001137),\n",
       " np.float64(0.030000000000001137),\n",
       " np.float64(0.11999999999997613),\n",
       " np.float64(0.09000000000000341),\n",
       " np.float64(0.04000000000000625),\n",
       " np.float64(0.01999999999999602),\n",
       " np.float64(0.33999999999991815),\n",
       " np.float64(0.04999999999999716),\n",
       " np.float64(0.01999999999999602),\n",
       " np.float64(0.029999999999986926),\n",
       " np.float64(0.12000000000000455),\n",
       " np.float64(0.05999999999999517),\n",
       " np.float64(0.010000000000005116),\n",
       " np.float64(0.01999999999999602),\n",
       " np.float64(0.01999999999999602),\n",
       " np.float64(1.4600000000000364),\n",
       " np.float64(0.00999999999999801),\n",
       " np.float64(0.030000000000001137),\n",
       " np.float64(0.030000000000001137),\n",
       " np.float64(0.010000000000001563),\n",
       " np.float64(0.01999999999998181),\n",
       " np.float64(0.020000000000003126),\n",
       " np.float64(0.030000000000001137),\n",
       " np.float64(0.04000000000000625),\n",
       " np.float64(0.030000000000001137),\n",
       " np.float64(0.12999999999999545),\n",
       " np.float64(0.010000000000005116),\n",
       " np.float64(0.060000000000002274),\n",
       " np.float64(0.010000000000001563),\n",
       " np.float64(0.010000000000001563),\n",
       " np.float64(0.05000000000001137),\n",
       " np.float64(0.00999999999999801),\n",
       " np.float64(0.04999999999998295),\n",
       " np.float64(0.09000000000000341),\n",
       " np.float64(0.020000000000003126),\n",
       " np.float64(0.18000000000000682),\n",
       " np.float64(0.00999999999999801),\n",
       " np.float64(0.020000000000003126),\n",
       " np.float64(0.030000000000001137),\n",
       " np.float64(0.019999999999999574),\n",
       " np.float64(0.0799999999999983),\n",
       " np.float64(0.0799999999999983),\n",
       " np.float64(0.18999999999999773),\n",
       " np.float64(0.040000000000020464),\n",
       " np.float64(0.12000000000000455),\n",
       " np.float64(0.04999999999999716),\n",
       " np.float64(0.030000000000001137),\n",
       " np.float64(0.00999999999999801),\n",
       " np.float64(0.030000000000001137),\n",
       " np.float64(0.18999999999999773),\n",
       " np.float64(0.00999999999999801),\n",
       " np.float64(0.009999999999999787),\n",
       " np.float64(0.13999999999998636),\n",
       " np.float64(0.3100000000000023),\n",
       " np.float64(0.010000000000001563),\n",
       " np.float64(0.020000000000010232),\n",
       " np.float64(0.04999999999999716),\n",
       " np.float64(0.009999999999999787),\n",
       " np.float64(0.04999999999999716),\n",
       " np.float64(0.030000000000001137)]"
      ]
     },
     "execution_count": 143,
     "metadata": {},
     "output_type": "execute_result"
    }
   ],
   "source": [
    "spreads"
   ]
  },
  {
   "cell_type": "code",
   "execution_count": 144,
   "metadata": {},
   "outputs": [],
   "source": [
    "spreads_filtered = [spread for spread in spreads if spread < 0.03]"
   ]
  },
  {
   "cell_type": "code",
   "execution_count": 145,
   "metadata": {},
   "outputs": [
    {
     "data": {
      "text/plain": [
       "<Axes: >"
      ]
     },
     "execution_count": 145,
     "metadata": {},
     "output_type": "execute_result"
    },
    {
     "data": {
      "image/png": "[encoded data removed]",
      "text/plain": [
       "<Figure size 640x480 with 1 Axes>"
      ]
     },
     "metadata": {},
     "output_type": "display_data"
    }
   ],
   "source": [
    "pd.Series(spreads_filtered).hist(bins=50)"
   ]
  },
  {
   "cell_type": "code",
   "execution_count": 237,
   "metadata": {},
   "outputs": [
    {
     "data": {
      "text/plain": [
       "0.00012422360248447205"
      ]
     },
     "execution_count": 237,
     "metadata": {},
     "output_type": "execute_result"
    }
   ],
   "source": [
    "0.02 / 161"
   ]
  },
  {
   "cell_type": "code",
   "execution_count": null,
   "metadata": {},
   "outputs": [],
   "source": []
  },
  {
   "cell_type": "code",
   "execution_count": 155,
   "metadata": {},
   "outputs": [],
   "source": [
    "low_spread_quotes = [quote for quote in quotes if (quote['ask_price'] - quote['bid_price']).iloc[0] <= 0.03]"
   ]
  },
  {
   "cell_type": "code",
   "execution_count": 157,
   "metadata": {},
   "outputs": [
    {
     "data": {
      "text/plain": [
       "<Axes: >"
      ]
     },
     "execution_count": 157,
     "metadata": {},
     "output_type": "execute_result"
    },
    {
     "data": {
      "image/png": "[encoded data removed]",
      "text/plain": [
       "<Figure size 640x480 with 1 Axes>"
      ]
     },
     "metadata": {},
     "output_type": "display_data"
    }
   ],
   "source": [
    "volumes = [quote['bid_price'].iloc[0] * min(quote['bid_size'].iloc[0], quote['ask_size'].iloc[0]) * 100 for quote in low_spread_quotes]\n",
    "pd.Series(volumes).hist(bins=50)"
   ]
  },
  {
   "cell_type": "code",
   "execution_count": 158,
   "metadata": {},
   "outputs": [
    {
     "data": {
      "text/plain": [
       "[np.float64(2042.0000000000002),\n",
       " np.float64(3076.0),\n",
       " np.float64(3263.0000000000005),\n",
       " np.float64(4426.0),\n",
       " np.float64(5034.0),\n",
       " np.float64(5204.0),\n",
       " np.float64(5214.0),\n",
       " np.float64(5290.0),\n",
       " np.float64(5504.0),\n",
       " np.float64(5602.0),\n",
       " np.float64(5713.0),\n",
       " np.float64(5921.0),\n",
       " np.float64(6042.0),\n",
       " np.float64(6198.0),\n",
       " np.float64(6316.0),\n",
       " np.float64(6362.0),\n",
       " np.float64(6872.0),\n",
       " np.float64(6884.999999999999),\n",
       " np.float64(7769.0),\n",
       " np.float64(7808.0),\n",
       " np.float64(8015.000000000001),\n",
       " np.float64(8334.0),\n",
       " np.float64(8376.0),\n",
       " np.float64(8652.0),\n",
       " np.float64(8679.0),\n",
       " np.float64(9258.0),\n",
       " np.float64(9576.0),\n",
       " np.float64(9592.0),\n",
       " np.float64(9690.0),\n",
       " np.float64(9719.999999999998),\n",
       " np.float64(10085.999999999998),\n",
       " np.float64(10540.0),\n",
       " np.float64(10546.0),\n",
       " np.float64(10690.0),\n",
       " np.float64(10776.0),\n",
       " np.float64(10868.0),\n",
       " np.float64(11256.0),\n",
       " np.float64(11398.0),\n",
       " np.float64(11800.0),\n",
       " np.float64(13326.0),\n",
       " np.float64(13786.000000000002),\n",
       " np.float64(13944.0),\n",
       " np.float64(15096.0),\n",
       " np.float64(16263.0),\n",
       " np.float64(18216.0),\n",
       " np.float64(19341.0),\n",
       " np.float64(19644.0),\n",
       " np.float64(23226.0),\n",
       " np.float64(23506.0),\n",
       " np.float64(23892.0),\n",
       " np.float64(26012.0),\n",
       " np.float64(26300.0),\n",
       " np.float64(29596.000000000004),\n",
       " np.float64(30750.0),\n",
       " np.float64(30766.999999999996),\n",
       " np.float64(31848.0),\n",
       " np.float64(32104.000000000004),\n",
       " np.float64(43337.0),\n",
       " np.float64(44572.0),\n",
       " np.float64(46207.0),\n",
       " np.float64(47560.0),\n",
       " np.float64(53479.99999999999),\n",
       " np.float64(63049.0),\n",
       " np.float64(82836.0),\n",
       " np.float64(107870.0),\n",
       " np.float64(239112.0)]"
      ]
     },
     "execution_count": 158,
     "metadata": {},
     "output_type": "execute_result"
    }
   ],
   "source": [
    "sorted(volumes)"
   ]
  },
  {
   "cell_type": "code",
   "execution_count": 84,
   "metadata": {},
   "outputs": [
    {
     "data": {
      "text/plain": [
       "66"
      ]
     },
     "execution_count": 84,
     "metadata": {},
     "output_type": "execute_result"
    }
   ],
   "source": [
    "len(spreads_filtered)"
   ]
  },
  {
   "cell_type": "code",
   "execution_count": 41,
   "metadata": {},
   "outputs": [
    {
     "data": {
      "text/plain": [
       "5.9999999999999954e-05"
      ]
     },
     "execution_count": 41,
     "metadata": {},
     "output_type": "execute_result"
    }
   ],
   "source": [
    "(2 * acc - 1) * vol - spread"
   ]
  },
  {
   "cell_type": "code",
   "execution_count": 245,
   "metadata": {},
   "outputs": [
    {
     "data": {
      "text/plain": [
       "2.8796479537661503"
      ]
     },
     "execution_count": 245,
     "metadata": {},
     "output_type": "execute_result"
    }
   ],
   "source": [
    "(1 + 2.26e-5) ** (390 * 20 * 6)"
   ]
  },
  {
   "cell_type": "code",
   "execution_count": 186,
   "metadata": {},
   "outputs": [
    {
     "data": {
      "text/plain": [
       "13038.742677098666"
      ]
     },
     "execution_count": 186,
     "metadata": {},
     "output_type": "execute_result"
    }
   ],
   "source": [
    "start_capital"
   ]
  },
  {
   "cell_type": "code",
   "execution_count": 125,
   "metadata": {},
   "outputs": [],
   "source": [
    "from alpaca.data.live import StockDataStream\n",
    "\n",
    "API_KEY = \"PKGG13YXB1TNOXBQC6UU\"\n",
    "API_SECRET = \"DOrUyg0g639FRkLhNrKzQKVilmGvzg3PZCpyFpeK\"\n",
    "\n",
    "wss_client = StockDataStream(API_KEY, API_SECRET)\n",
    "\n",
    "# async handler\n",
    "async def quote_data_handler(data):\n",
    "    # quote data will arrive here\n",
    "    print(data)\n",
    "\n",
    "wss_client.subscribe_quotes(quote_data_handler, \"AAPL\")"
   ]
  },
  {
   "cell_type": "code",
   "execution_count": 126,
   "metadata": {},
   "outputs": [
    {
     "ename": "AttributeError",
     "evalue": "'NoneType' object has no attribute 'is_running'",
     "output_type": "error",
     "traceback": [
      "\u001b[1;31m---------------------------------------------------------------------------\u001b[0m",
      "\u001b[1;31mRuntimeError\u001b[0m                              Traceback (most recent call last)",
      "File \u001b[1;32mc:\\Users\\ikurnosau\\anaconda3\\envs\\mldl\\Lib\\site-packages\\alpaca\\data\\live\\websocket.py:366\u001b[0m, in \u001b[0;36mDataStream.run\u001b[1;34m(self)\u001b[0m\n\u001b[0;32m    365\u001b[0m \u001b[38;5;28;01mtry\u001b[39;00m:\n\u001b[1;32m--> 366\u001b[0m     \u001b[43masyncio\u001b[49m\u001b[38;5;241;43m.\u001b[39;49m\u001b[43mrun\u001b[49m\u001b[43m(\u001b[49m\u001b[38;5;28;43mself\u001b[39;49m\u001b[38;5;241;43m.\u001b[39;49m\u001b[43m_run_forever\u001b[49m\u001b[43m(\u001b[49m\u001b[43m)\u001b[49m\u001b[43m)\u001b[49m\n\u001b[0;32m    367\u001b[0m \u001b[38;5;28;01mexcept\u001b[39;00m \u001b[38;5;167;01mKeyboardInterrupt\u001b[39;00m:\n",
      "File \u001b[1;32mc:\\Users\\ikurnosau\\anaconda3\\envs\\mldl\\Lib\\asyncio\\runners.py:190\u001b[0m, in \u001b[0;36mrun\u001b[1;34m(main, debug, loop_factory)\u001b[0m\n\u001b[0;32m    188\u001b[0m \u001b[38;5;28;01mif\u001b[39;00m events\u001b[38;5;241m.\u001b[39m_get_running_loop() \u001b[38;5;129;01mis\u001b[39;00m \u001b[38;5;129;01mnot\u001b[39;00m \u001b[38;5;28;01mNone\u001b[39;00m:\n\u001b[0;32m    189\u001b[0m     \u001b[38;5;66;03m# fail fast with short traceback\u001b[39;00m\n\u001b[1;32m--> 190\u001b[0m     \u001b[38;5;28;01mraise\u001b[39;00m \u001b[38;5;167;01mRuntimeError\u001b[39;00m(\n\u001b[0;32m    191\u001b[0m         \u001b[38;5;124m\"\u001b[39m\u001b[38;5;124masyncio.run() cannot be called from a running event loop\u001b[39m\u001b[38;5;124m\"\u001b[39m)\n\u001b[0;32m    193\u001b[0m \u001b[38;5;28;01mwith\u001b[39;00m Runner(debug\u001b[38;5;241m=\u001b[39mdebug, loop_factory\u001b[38;5;241m=\u001b[39mloop_factory) \u001b[38;5;28;01mas\u001b[39;00m runner:\n",
      "\u001b[1;31mRuntimeError\u001b[0m: asyncio.run() cannot be called from a running event loop",
      "\nDuring handling of the above exception, another exception occurred:\n",
      "\u001b[1;31mAttributeError\u001b[0m                            Traceback (most recent call last)",
      "Cell \u001b[1;32mIn[126], line 1\u001b[0m\n\u001b[1;32m----> 1\u001b[0m \u001b[43mwss_client\u001b[49m\u001b[38;5;241;43m.\u001b[39;49m\u001b[43mrun\u001b[49m\u001b[43m(\u001b[49m\u001b[43m)\u001b[49m\n",
      "File \u001b[1;32mc:\\Users\\ikurnosau\\anaconda3\\envs\\mldl\\Lib\\site-packages\\alpaca\\data\\live\\websocket.py:371\u001b[0m, in \u001b[0;36mDataStream.run\u001b[1;34m(self)\u001b[0m\n\u001b[0;32m    369\u001b[0m     \u001b[38;5;28;01mpass\u001b[39;00m\n\u001b[0;32m    370\u001b[0m \u001b[38;5;28;01mfinally\u001b[39;00m:\n\u001b[1;32m--> 371\u001b[0m     \u001b[38;5;28;43mself\u001b[39;49m\u001b[38;5;241;43m.\u001b[39;49m\u001b[43mstop\u001b[49m\u001b[43m(\u001b[49m\u001b[43m)\u001b[49m\n",
      "File \u001b[1;32mc:\\Users\\ikurnosau\\anaconda3\\envs\\mldl\\Lib\\site-packages\\alpaca\\data\\live\\websocket.py:375\u001b[0m, in \u001b[0;36mDataStream.stop\u001b[1;34m(self)\u001b[0m\n\u001b[0;32m    373\u001b[0m \u001b[38;5;28;01mdef\u001b[39;00m \u001b[38;5;21mstop\u001b[39m(\u001b[38;5;28mself\u001b[39m) \u001b[38;5;241m-\u001b[39m\u001b[38;5;241m>\u001b[39m \u001b[38;5;28;01mNone\u001b[39;00m:\n\u001b[0;32m    374\u001b[0m \u001b[38;5;250m    \u001b[39m\u001b[38;5;124;03m\"\"\"Stops the websocket connection.\"\"\"\u001b[39;00m\n\u001b[1;32m--> 375\u001b[0m     \u001b[38;5;28;01mif\u001b[39;00m \u001b[38;5;28;43mself\u001b[39;49m\u001b[38;5;241;43m.\u001b[39;49m\u001b[43m_loop\u001b[49m\u001b[38;5;241;43m.\u001b[39;49m\u001b[43mis_running\u001b[49m():\n\u001b[0;32m    376\u001b[0m         asyncio\u001b[38;5;241m.\u001b[39mrun_coroutine_threadsafe(\u001b[38;5;28mself\u001b[39m\u001b[38;5;241m.\u001b[39mstop_ws(), \u001b[38;5;28mself\u001b[39m\u001b[38;5;241m.\u001b[39m_loop)\u001b[38;5;241m.\u001b[39mresult(\n\u001b[0;32m    377\u001b[0m             timeout\u001b[38;5;241m=\u001b[39m\u001b[38;5;241m5\u001b[39m\n\u001b[0;32m    378\u001b[0m         )\n",
      "\u001b[1;31mAttributeError\u001b[0m: 'NoneType' object has no attribute 'is_running'"
     ]
    }
   ],
   "source": [
    "wss_client.run()"
   ]
  },
  {
   "cell_type": "code",
   "execution_count": null,
   "metadata": {},
   "outputs": [],
   "source": []
  }
 ],
 "metadata": {
  "kernelspec": {
   "display_name": "mldl",
   "language": "python",
   "name": "python3"
  },
  "language_info": {
   "codemirror_mode": {
    "name": "ipython",
    "version": 3
   },
   "file_extension": ".py",
   "mimetype": "text/x-python",
   "name": "python",
   "nbconvert_exporter": "python",
   "pygments_lexer": "ipython3",
   "version": "3.12.7"
  }
 },
 "nbformat": 4,
 "nbformat_minor": 2
}
